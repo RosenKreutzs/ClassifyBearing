{
 "cells": [
  {
   "metadata": {
    "ExecuteTime": {
     "end_time": "2024-05-18T16:07:06.126934Z",
     "start_time": "2024-05-18T16:06:55.767677Z"
    }
   },
   "cell_type": "code",
   "source": [
    "import numpy as np\n",
    "import pandas as pd\n",
    "from scipy.io import loadmat\n",
    " \n",
    "file_names = ['97.mat','105.mat','118.mat','130.mat','169.mat','185.mat','197.mat','209.mat','222.mat','234.mat']\n",
    " \n",
    "for file in file_names:\n",
    "    # 读取MAT文件\n",
    "    data = loadmat(f'../data_files/ODS\\\\{file}')\n",
    "    print(list(data.keys()))"
   ],
   "id": "initial_id",
   "execution_count": 2,
   "outputs": []
  },
  {
   "metadata": {
    "ExecuteTime": {
     "end_time": "2024-05-18T16:07:11.815242Z",
     "start_time": "2024-05-18T16:07:11.263023Z"
    }
   },
   "cell_type": "code",
   "source": [
    "# 采用驱动端数据\n",
    "data_columns = ['X097_DE_time', 'X105_DE_time', 'X118_DE_time', 'X130_DE_time', 'X169_DE_time',\n",
    "                'X185_DE_time','X197_DE_time','X209_DE_time','X222_DE_time','X234_DE_time']\n",
    "columns_name = ['97','105','118','130','169','185','197','209','222',\"234\"]\n",
    "data_12k_10c = pd.DataFrame()\n",
    "for index in range(10):\n",
    "    # 读取MAT文件\n",
    "    data = loadmat(f'../data_files/ODS\\\\{file_names[index]}')\n",
    "    dataList = data[data_columns[index]].reshape(-1)\n",
    "    data_12k_10c[columns_name[index]] = dataList[:119808]  # 121048  min: 121265\n",
    "print(data_12k_10c.shape)\n",
    "data_12k_10c"
   ],
   "id": "b0c7458073f1cb00",
   "execution_count": 3,
   "outputs": []
  },
  {
   "metadata": {
    "ExecuteTime": {
     "end_time": "2024-05-17T11:39:56.487380Z",
     "start_time": "2024-05-17T11:39:16.250268Z"
    }
   },
   "cell_type": "code",
   "source": [
    "# 定义滑动窗口大小和步长\n",
    "window_size = 1024\n",
    "stride = int(window_size / 2)  # 此处使用了 50% 的重叠率\n",
    "result_transpose_df=pd.DataFrame()\n",
    "for futures_name in columns_name:\n",
    "    data_array=data_12k_10c[futures_name]\n",
    "    # 创建滑动窗口\n",
    "    rolling_window = np.lib.stride_tricks.sliding_window_view(data_array, window_shape=window_size)\n",
    "    # 提取具有给定步长的子数组\n",
    "    rolling_window = rolling_window[::stride]\n",
    "    for window_data in rolling_window:\n",
    "        arr=window_data\n",
    "        scalar_value = float(futures_name)\n",
    "        # 使用 concatenate() 函数将标量追加到数组末尾\n",
    "        new_arr = np.concatenate([arr, [scalar_value]])\n",
    "        rolling_window_df=pd.DataFrame(new_arr)\n",
    "                # 将滑动窗口中的数据组合成一个新的 DataFrame 对象\n",
    "        result_transpose_df = pd.concat([result_transpose_df, rolling_window_df], axis=1, ignore_index=True)\n",
    "\n",
    "result_df=result_transpose_df.transpose()\n",
    "# 检查结果\n",
    "print(result_df.shape)  # 输出 (n, 1024)"
   ],
   "id": "4ca080156aefcfac",
   "execution_count": 38,
   "outputs": []
  },
  {
   "metadata": {
    "ExecuteTime": {
     "end_time": "2024-05-18T16:07:34.871112Z",
     "start_time": "2024-05-18T16:07:25.118484Z"
    }
   },
   "cell_type": "code",
   "source": [
    "import numpy as np\n",
    "import pandas as pd\n",
    "result_temp_df=pd.read_csv(\"../data_files/CDM/origin_datas0.csv\")\n",
    "# 去掉第一列（通常是ID列）来创建新的DataFrame X  \n",
    "result_df = result_temp_df.iloc[:, 1:]  # 使用iloc并选择所有行，从第二列（索引为1）开始到最后一列  \n",
    "result_df"
   ],
   "id": "fa710ce4f09690bb",
   "execution_count": 4,
   "outputs": []
  },
  {
   "metadata": {},
   "cell_type": "markdown",
   "source": [
    "# 堆叠处理\n",
    "## 堆叠处理的本质：\n",
    "一维时间序列向量，以reshape，变换形状为二维数组计算堆叠处理\n",
    "## 堆叠处理的用处：\n",
    "常用于LSTM模型，将一维对象的训练数据变为二维对象，减低一维长序列向量的信息损失，用二维对象尽可能保存信息；"
   ],
   "id": "7dd3a01e3b0af52a"
  },
  {
   "metadata": {
    "ExecuteTime": {
     "end_time": "2024-05-18T16:09:32.572672Z",
     "start_time": "2024-05-18T16:08:08.622207Z"
    }
   },
   "cell_type": "code",
   "source": [
    "from sklearn.model_selection import train_test_split\n",
    "from keras.utils import to_categorical\n",
    "from sklearn.preprocessing import LabelEncoder  \n",
    "\n",
    "# 提取特征变量 X，不包含最后一列  \n",
    "X_temp = result_df.iloc[:, :-1]  # 使用iloc并选择所有行和除了最后一列的所有列  \n",
    "# 转换特征变量 X，为numpy.ndarray类型,和堆叠操作\n",
    "X_array = X_temp.to_numpy()\n",
    "X = X_array.reshape(X_temp.shape[0], 32, 32)\n",
    "\n",
    "# 使用 .iloc 方法选择最后一列作为一个新的 DataFrame\n",
    "y_temp = result_df.iloc[:, -1:]\n",
    "y_encoded_labels_temp=y_temp.to_numpy()\n",
    "# 创建一个LabelEncoder对象  \n",
    "le = LabelEncoder()  \n",
    "# 使用fit_transform方法对标签进行序列编码，独热编码\n",
    "y_one_hot_encoded_temp = le.fit_transform(y_encoded_labels_temp)  \n",
    "num_classes = len(np.unique(y_one_hot_encoded_temp))\n",
    "y = to_categorical(y_one_hot_encoded_temp, num_classes=num_classes)  \n",
    "#保存y的值映射表\n",
    "original_labels = le.inverse_transform(y_one_hot_encoded_temp)  \n",
    "unique_original_labels_only = np.unique(original_labels)\n",
    "# 将一维数组转换为pandas Series，然后保存为DataFrame（默认只有一列）  \n",
    "unique_original_labels_only_df = pd.DataFrame(unique_original_labels_only, columns=['Column_Name'])  \n",
    "unique_original_labels_only_df.to_csv('../data_files/ADS/unique_original_labels_only.csv', index=False)  # index=False避免保存行索引 "
   ],
   "id": "f41c9e3bc91e9863",
   "execution_count": 5,
   "outputs": []
  },
  {
   "metadata": {
    "ExecuteTime": {
     "end_time": "2024-05-18T16:09:52.241382Z",
     "start_time": "2024-05-18T16:09:51.977448Z"
    }
   },
   "cell_type": "code",
   "source": [
    "# 首先划分训练集和测试数据集\n",
    "X_train, X_test, y_train, y_test = train_test_split(X, y, test_size=0.2, random_state=42)\n",
    "X_train,X_test.shape"
   ],
   "id": "7a37cb1d126e4c00",
   "execution_count": 6,
   "outputs": []
  },
  {
   "metadata": {
    "ExecuteTime": {
     "start_time": "2024-05-18T16:09:57.105023Z"
    }
   },
   "cell_type": "code",
   "source": [
    "from keras.models import Sequential\n",
    "from keras.layers import LSTM, Dense,Dropout\n",
    "import keras\n",
    "\n",
    "# 创建一个 Sequential 模型\n",
    "model = Sequential()\n",
    "\n",
    "# 添加一个 LSTM 层，输入形状为 (时间步长, 特征数量)，这里假设时间步长为 10，特征数量为 X 的列数\n",
    "model.add(LSTM(units=256, return_sequences=True, input_shape=(32,32)))\n",
    "\n",
    "# 添加第二层 LSTM，最后一层不需要返回序列\n",
    "model.add(LSTM(units=128))\n",
    "# 添加Dropout,正则化，防止过拟合\n",
    "model.add(Dropout(0.5))\n",
    "# 添加一个全连接层作为输出层，使用 sigmoid 激活函数进行二分类\n",
    "model.add(Dense(units=10, activation='sigmoid'))\n",
    "\n",
    "# 编译模型，使用交叉熵作为损失函数\n",
    "model.compile(optimizer='adam', loss='categorical_crossentropy', metrics=['accuracy'])\n",
    "\n",
    "# 回调函数\n",
    "class StopAtAccuracy(keras.callbacks.Callback):  \n",
    "    def on_epoch_end(self, epoch, logs=None):  \n",
    "        if logs and logs.get('val_accuracy') is not None:  \n",
    "            if logs['val_accuracy'] >= 0.95:  # 当验证准确率大于或等于95%时停止训练  \n",
    "                print(f'\\nReached {logs[\"val_accuracy\"]*100:.2f}% accuracy so cancelling training!')  \n",
    "                self.model.stop_training = True  \n",
    "# 训练模型\n",
    "# 创建自定义回调实例  \n",
    "stop_at_accuracy = StopAtAccuracy()  \n",
    "  \n",
    "# 训练模型，传入自定义回调作为回调  \n",
    "history=model.fit(X_train, y_train, epochs=50, batch_size=32, validation_split=0.2, callbacks=[stop_at_accuracy])"
   ],
   "id": "2cedafe1048ca52d",
   "execution_count": 7,
   "outputs": []
  },
  {
   "metadata": {
    "ExecuteTime": {
     "end_time": "2024-05-18T08:41:27.538977Z",
     "start_time": "2024-05-18T08:41:27.340035Z"
    }
   },
   "cell_type": "code",
   "source": [
    "# 保存模型到磁盘  \n",
    "model.save('LSTM_model.keras')  # 创建model文件 'LSTM_model.keras'"
   ],
   "id": "48037b4a06d9c4fd",
   "execution_count": 33,
   "outputs": []
  },
  {
   "metadata": {
    "ExecuteTime": {
     "end_time": "2024-05-18T08:41:32.509754Z",
     "start_time": "2024-05-18T08:41:30.754712Z"
    }
   },
   "cell_type": "code",
   "source": [
    "# 评估模型  \n",
    "loss, accuracy = model.evaluate(X_test, y_test)  \n",
    "print(f'Test loss: {loss:.4f}')  \n",
    "print(f'Test accuracy: {accuracy:.4f}')"
   ],
   "id": "4d30f6dc26af8265",
   "execution_count": 34,
   "outputs": []
  },
  {
   "metadata": {
    "ExecuteTime": {
     "end_time": "2024-05-18T09:11:29.116337Z",
     "start_time": "2024-05-18T09:11:26.237327Z"
    }
   },
   "cell_type": "code",
   "source": [
    "import matplotlib.pyplot as plt \n",
    "# 绘制训练loss和验证loss  \n",
    "plt.plot(history.history['loss'], label='train')  \n",
    "plt.plot(history.history['val_loss'], label='val')  \n",
    "plt.legend(loc='upper right')  \n",
    "plt.title('Model loss')  \n",
    "plt.ylabel('Loss')  \n",
    "plt.xlabel('Epoch')  \n",
    "plt.show()  \n",
    "  \n",
    "# 绘制训练accuracy和验证accuracy  \n",
    "plt.plot(history.history['accuracy'], label='train')  \n",
    "plt.plot(history.history['val_accuracy'], label='val')  \n",
    "plt.legend(loc='lower right')  \n",
    "plt.title('Model accuracy')  \n",
    "plt.ylabel('Accuracy')  \n",
    "plt.xlabel('Epoch')  \n",
    "plt.ylim(ymin=0, ymax=1)  # 设置y轴的范围为0到1  \n",
    "plt.show()"
   ],
   "id": "38091f1c0653bb07",
   "execution_count": 36,
   "outputs": []
  },
  {
   "metadata": {},
   "cell_type": "code",
   "execution_count": null,
   "source": "",
   "id": "684234dfe48d2d3c",
   "outputs": []
  }
 ],
 "metadata": {
  "kernelspec": {
   "display_name": "Python 3",
   "language": "python",
   "name": "python3"
  },
  "language_info": {
   "codemirror_mode": {
    "name": "ipython",
    "version": 2
   },
   "file_extension": ".py",
   "mimetype": "text/x-python",
   "name": "python",
   "nbconvert_exporter": "python",
   "pygments_lexer": "ipython2",
   "version": "2.7.6"
  }
 },
 "nbformat": 4,
 "nbformat_minor": 5
}
